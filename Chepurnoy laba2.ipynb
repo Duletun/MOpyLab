{
 "cells": [
  {
   "cell_type": "markdown",
   "id": "0011c26b",
   "metadata": {},
   "source": [
    "# Библиотеки"
   ]
  },
  {
   "cell_type": "code",
   "execution_count": 1,
   "id": "93721615",
   "metadata": {},
   "outputs": [],
   "source": [
    "import numpy as np\n",
    "import pandas as pd\n",
    "import matplotlib.pyplot as plt\n",
    "import seaborn as sns\n",
    "import itertools\n",
    "from sklearn.model_selection import train_test_split\n",
    "from sklearn.linear_model import LinearRegression\n",
    "from sklearn.metrics import mean_squared_error\n",
    "from sklearn.linear_model import LogisticRegression\n",
    "from sklearn.metrics import accuracy_score\n",
    "from matplotlib.colors import ListedColormap"
   ]
  },
  {
   "cell_type": "markdown",
   "id": "ad88beb2",
   "metadata": {},
   "source": [
    "# Лабораторная работа №2"
   ]
  },
  {
   "cell_type": "markdown",
   "id": "47d1b3af",
   "metadata": {},
   "source": [
    "##  Часть 1"
   ]
  },
  {
   "cell_type": "markdown",
   "id": "1ed3dc9b",
   "metadata": {},
   "source": [
    "### Задание 3"
   ]
  },
  {
   "cell_type": "code",
   "execution_count": 2,
   "id": "c198a76e",
   "metadata": {
    "scrolled": true
   },
   "outputs": [
    {
     "data": {
      "text/html": [
       "<div>\n",
       "<style scoped>\n",
       "    .dataframe tbody tr th:only-of-type {\n",
       "        vertical-align: middle;\n",
       "    }\n",
       "\n",
       "    .dataframe tbody tr th {\n",
       "        vertical-align: top;\n",
       "    }\n",
       "\n",
       "    .dataframe thead th {\n",
       "        text-align: right;\n",
       "    }\n",
       "</style>\n",
       "<table border=\"1\" class=\"dataframe\">\n",
       "  <thead>\n",
       "    <tr style=\"text-align: right;\">\n",
       "      <th></th>\n",
       "      <th>longitude</th>\n",
       "      <th>latitude</th>\n",
       "      <th>housing_median_age</th>\n",
       "      <th>total_rooms</th>\n",
       "      <th>total_bedrooms</th>\n",
       "      <th>population</th>\n",
       "      <th>households</th>\n",
       "      <th>median_income</th>\n",
       "      <th>median_house_value</th>\n",
       "      <th>ocean_proximity</th>\n",
       "    </tr>\n",
       "  </thead>\n",
       "  <tbody>\n",
       "    <tr>\n",
       "      <th>0</th>\n",
       "      <td>-122.23</td>\n",
       "      <td>37.88</td>\n",
       "      <td>41.0</td>\n",
       "      <td>880.0</td>\n",
       "      <td>129.0</td>\n",
       "      <td>322.0</td>\n",
       "      <td>126.0</td>\n",
       "      <td>8.3252</td>\n",
       "      <td>452600.0</td>\n",
       "      <td>NEAR BAY</td>\n",
       "    </tr>\n",
       "    <tr>\n",
       "      <th>1</th>\n",
       "      <td>-122.22</td>\n",
       "      <td>37.86</td>\n",
       "      <td>21.0</td>\n",
       "      <td>7099.0</td>\n",
       "      <td>1106.0</td>\n",
       "      <td>2401.0</td>\n",
       "      <td>1138.0</td>\n",
       "      <td>8.3014</td>\n",
       "      <td>358500.0</td>\n",
       "      <td>NEAR BAY</td>\n",
       "    </tr>\n",
       "    <tr>\n",
       "      <th>2</th>\n",
       "      <td>-122.24</td>\n",
       "      <td>37.85</td>\n",
       "      <td>52.0</td>\n",
       "      <td>1467.0</td>\n",
       "      <td>190.0</td>\n",
       "      <td>496.0</td>\n",
       "      <td>177.0</td>\n",
       "      <td>7.2574</td>\n",
       "      <td>352100.0</td>\n",
       "      <td>NEAR BAY</td>\n",
       "    </tr>\n",
       "    <tr>\n",
       "      <th>3</th>\n",
       "      <td>-122.25</td>\n",
       "      <td>37.85</td>\n",
       "      <td>52.0</td>\n",
       "      <td>1274.0</td>\n",
       "      <td>235.0</td>\n",
       "      <td>558.0</td>\n",
       "      <td>219.0</td>\n",
       "      <td>5.6431</td>\n",
       "      <td>341300.0</td>\n",
       "      <td>NEAR BAY</td>\n",
       "    </tr>\n",
       "    <tr>\n",
       "      <th>4</th>\n",
       "      <td>-122.25</td>\n",
       "      <td>37.85</td>\n",
       "      <td>52.0</td>\n",
       "      <td>1627.0</td>\n",
       "      <td>280.0</td>\n",
       "      <td>565.0</td>\n",
       "      <td>259.0</td>\n",
       "      <td>3.8462</td>\n",
       "      <td>342200.0</td>\n",
       "      <td>NEAR BAY</td>\n",
       "    </tr>\n",
       "  </tbody>\n",
       "</table>\n",
       "</div>"
      ],
      "text/plain": [
       "   longitude  latitude  housing_median_age  total_rooms  total_bedrooms  \\\n",
       "0    -122.23     37.88                41.0        880.0           129.0   \n",
       "1    -122.22     37.86                21.0       7099.0          1106.0   \n",
       "2    -122.24     37.85                52.0       1467.0           190.0   \n",
       "3    -122.25     37.85                52.0       1274.0           235.0   \n",
       "4    -122.25     37.85                52.0       1627.0           280.0   \n",
       "\n",
       "   population  households  median_income  median_house_value ocean_proximity  \n",
       "0       322.0       126.0         8.3252            452600.0        NEAR BAY  \n",
       "1      2401.0      1138.0         8.3014            358500.0        NEAR BAY  \n",
       "2       496.0       177.0         7.2574            352100.0        NEAR BAY  \n",
       "3       558.0       219.0         5.6431            341300.0        NEAR BAY  \n",
       "4       565.0       259.0         3.8462            342200.0        NEAR BAY  "
      ]
     },
     "execution_count": 2,
     "metadata": {},
     "output_type": "execute_result"
    }
   ],
   "source": [
    "df = pd.read_csv(\"housing.csv\")\n",
    "df.head()"
   ]
  },
  {
   "cell_type": "code",
   "execution_count": 3,
   "id": "984d9e02",
   "metadata": {
    "scrolled": false
   },
   "outputs": [
    {
     "name": "stdout",
     "output_type": "stream",
     "text": [
      "тренировочная  (16718, 10) валидационная  (1858, 10) тестовая  (2064, 10)\n"
     ]
    }
   ],
   "source": [
    "# 1) Разбиение датасета\n",
    "train_valid, test = train_test_split(df, test_size = 0.1)\n",
    "train, valid = train_test_split(train_valid, test_size = 0.1)\n",
    "print ('тренировочная ',train.shape, 'валидационная ', valid.shape,'тестовая ', test.shape )"
   ]
  },
  {
   "cell_type": "code",
   "execution_count": 4,
   "id": "316eeee5",
   "metadata": {},
   "outputs": [
    {
     "data": {
      "text/html": [
       "<div>\n",
       "<style scoped>\n",
       "    .dataframe tbody tr th:only-of-type {\n",
       "        vertical-align: middle;\n",
       "    }\n",
       "\n",
       "    .dataframe tbody tr th {\n",
       "        vertical-align: top;\n",
       "    }\n",
       "\n",
       "    .dataframe thead th {\n",
       "        text-align: right;\n",
       "    }\n",
       "</style>\n",
       "<table border=\"1\" class=\"dataframe\">\n",
       "  <thead>\n",
       "    <tr style=\"text-align: right;\">\n",
       "      <th></th>\n",
       "      <th>longitude</th>\n",
       "      <th>latitude</th>\n",
       "      <th>housing_median_age</th>\n",
       "      <th>total_rooms</th>\n",
       "      <th>total_bedrooms</th>\n",
       "      <th>population</th>\n",
       "      <th>households</th>\n",
       "      <th>median_income</th>\n",
       "      <th>median_house_value</th>\n",
       "      <th>ocean_proximity__&lt;1H OCEAN</th>\n",
       "      <th>ocean_proximity__INLAND</th>\n",
       "      <th>ocean_proximity__ISLAND</th>\n",
       "      <th>ocean_proximity__NEAR BAY</th>\n",
       "      <th>ocean_proximity__NEAR OCEAN</th>\n",
       "    </tr>\n",
       "  </thead>\n",
       "  <tbody>\n",
       "    <tr>\n",
       "      <th>0</th>\n",
       "      <td>-122.23</td>\n",
       "      <td>37.88</td>\n",
       "      <td>41.0</td>\n",
       "      <td>880.0</td>\n",
       "      <td>129.0</td>\n",
       "      <td>322.0</td>\n",
       "      <td>126.0</td>\n",
       "      <td>8.3252</td>\n",
       "      <td>452600.0</td>\n",
       "      <td>0</td>\n",
       "      <td>0</td>\n",
       "      <td>0</td>\n",
       "      <td>1</td>\n",
       "      <td>0</td>\n",
       "    </tr>\n",
       "    <tr>\n",
       "      <th>1</th>\n",
       "      <td>-122.22</td>\n",
       "      <td>37.86</td>\n",
       "      <td>21.0</td>\n",
       "      <td>7099.0</td>\n",
       "      <td>1106.0</td>\n",
       "      <td>2401.0</td>\n",
       "      <td>1138.0</td>\n",
       "      <td>8.3014</td>\n",
       "      <td>358500.0</td>\n",
       "      <td>0</td>\n",
       "      <td>0</td>\n",
       "      <td>0</td>\n",
       "      <td>1</td>\n",
       "      <td>0</td>\n",
       "    </tr>\n",
       "    <tr>\n",
       "      <th>2</th>\n",
       "      <td>-122.24</td>\n",
       "      <td>37.85</td>\n",
       "      <td>52.0</td>\n",
       "      <td>1467.0</td>\n",
       "      <td>190.0</td>\n",
       "      <td>496.0</td>\n",
       "      <td>177.0</td>\n",
       "      <td>7.2574</td>\n",
       "      <td>352100.0</td>\n",
       "      <td>0</td>\n",
       "      <td>0</td>\n",
       "      <td>0</td>\n",
       "      <td>1</td>\n",
       "      <td>0</td>\n",
       "    </tr>\n",
       "    <tr>\n",
       "      <th>3</th>\n",
       "      <td>-122.25</td>\n",
       "      <td>37.85</td>\n",
       "      <td>52.0</td>\n",
       "      <td>1274.0</td>\n",
       "      <td>235.0</td>\n",
       "      <td>558.0</td>\n",
       "      <td>219.0</td>\n",
       "      <td>5.6431</td>\n",
       "      <td>341300.0</td>\n",
       "      <td>0</td>\n",
       "      <td>0</td>\n",
       "      <td>0</td>\n",
       "      <td>1</td>\n",
       "      <td>0</td>\n",
       "    </tr>\n",
       "    <tr>\n",
       "      <th>4</th>\n",
       "      <td>-122.25</td>\n",
       "      <td>37.85</td>\n",
       "      <td>52.0</td>\n",
       "      <td>1627.0</td>\n",
       "      <td>280.0</td>\n",
       "      <td>565.0</td>\n",
       "      <td>259.0</td>\n",
       "      <td>3.8462</td>\n",
       "      <td>342200.0</td>\n",
       "      <td>0</td>\n",
       "      <td>0</td>\n",
       "      <td>0</td>\n",
       "      <td>1</td>\n",
       "      <td>0</td>\n",
       "    </tr>\n",
       "  </tbody>\n",
       "</table>\n",
       "</div>"
      ],
      "text/plain": [
       "   longitude  latitude  housing_median_age  total_rooms  total_bedrooms  \\\n",
       "0    -122.23     37.88                41.0        880.0           129.0   \n",
       "1    -122.22     37.86                21.0       7099.0          1106.0   \n",
       "2    -122.24     37.85                52.0       1467.0           190.0   \n",
       "3    -122.25     37.85                52.0       1274.0           235.0   \n",
       "4    -122.25     37.85                52.0       1627.0           280.0   \n",
       "\n",
       "   population  households  median_income  median_house_value  \\\n",
       "0       322.0       126.0         8.3252            452600.0   \n",
       "1      2401.0      1138.0         8.3014            358500.0   \n",
       "2       496.0       177.0         7.2574            352100.0   \n",
       "3       558.0       219.0         5.6431            341300.0   \n",
       "4       565.0       259.0         3.8462            342200.0   \n",
       "\n",
       "   ocean_proximity__<1H OCEAN  ocean_proximity__INLAND  \\\n",
       "0                           0                        0   \n",
       "1                           0                        0   \n",
       "2                           0                        0   \n",
       "3                           0                        0   \n",
       "4                           0                        0   \n",
       "\n",
       "   ocean_proximity__ISLAND  ocean_proximity__NEAR BAY  \\\n",
       "0                        0                          1   \n",
       "1                        0                          1   \n",
       "2                        0                          1   \n",
       "3                        0                          1   \n",
       "4                        0                          1   \n",
       "\n",
       "   ocean_proximity__NEAR OCEAN  \n",
       "0                            0  \n",
       "1                            0  \n",
       "2                            0  \n",
       "3                            0  \n",
       "4                            0  "
      ]
     },
     "execution_count": 4,
     "metadata": {},
     "output_type": "execute_result"
    }
   ],
   "source": [
    "# 2) Преобразование категориального признака ocean_proximity через Dummy-кодировку\n",
    "DUMMY_SEP = '__'\n",
    "\n",
    "df = pd.get_dummies(df, columns=[\"ocean_proximity\"], prefix_sep=DUMMY_SEP)\n",
    "df.head()"
   ]
  },
  {
   "cell_type": "code",
   "execution_count": 5,
   "id": "84f6ae35",
   "metadata": {
    "scrolled": true
   },
   "outputs": [
    {
     "data": {
      "text/html": [
       "<div>\n",
       "<style scoped>\n",
       "    .dataframe tbody tr th:only-of-type {\n",
       "        vertical-align: middle;\n",
       "    }\n",
       "\n",
       "    .dataframe tbody tr th {\n",
       "        vertical-align: top;\n",
       "    }\n",
       "\n",
       "    .dataframe thead th {\n",
       "        text-align: right;\n",
       "    }\n",
       "</style>\n",
       "<table border=\"1\" class=\"dataframe\">\n",
       "  <thead>\n",
       "    <tr style=\"text-align: right;\">\n",
       "      <th></th>\n",
       "      <th>longitude</th>\n",
       "      <th>latitude</th>\n",
       "      <th>housing_median_age</th>\n",
       "      <th>population</th>\n",
       "      <th>households</th>\n",
       "      <th>median_income</th>\n",
       "      <th>median_house_value</th>\n",
       "      <th>ocean_proximity__&lt;1H OCEAN</th>\n",
       "      <th>ocean_proximity__INLAND</th>\n",
       "      <th>ocean_proximity__ISLAND</th>\n",
       "      <th>ocean_proximity__NEAR BAY</th>\n",
       "      <th>ocean_proximity__NEAR OCEAN</th>\n",
       "      <th>average_rooms</th>\n",
       "      <th>average_bedrooms</th>\n",
       "    </tr>\n",
       "  </thead>\n",
       "  <tbody>\n",
       "    <tr>\n",
       "      <th>0</th>\n",
       "      <td>-122.23</td>\n",
       "      <td>37.88</td>\n",
       "      <td>41.0</td>\n",
       "      <td>322.0</td>\n",
       "      <td>126.0</td>\n",
       "      <td>8.3252</td>\n",
       "      <td>452600.0</td>\n",
       "      <td>0</td>\n",
       "      <td>0</td>\n",
       "      <td>0</td>\n",
       "      <td>1</td>\n",
       "      <td>0</td>\n",
       "      <td>6.984127</td>\n",
       "      <td>1.023810</td>\n",
       "    </tr>\n",
       "    <tr>\n",
       "      <th>1</th>\n",
       "      <td>-122.22</td>\n",
       "      <td>37.86</td>\n",
       "      <td>21.0</td>\n",
       "      <td>2401.0</td>\n",
       "      <td>1138.0</td>\n",
       "      <td>8.3014</td>\n",
       "      <td>358500.0</td>\n",
       "      <td>0</td>\n",
       "      <td>0</td>\n",
       "      <td>0</td>\n",
       "      <td>1</td>\n",
       "      <td>0</td>\n",
       "      <td>6.238137</td>\n",
       "      <td>0.971880</td>\n",
       "    </tr>\n",
       "    <tr>\n",
       "      <th>2</th>\n",
       "      <td>-122.24</td>\n",
       "      <td>37.85</td>\n",
       "      <td>52.0</td>\n",
       "      <td>496.0</td>\n",
       "      <td>177.0</td>\n",
       "      <td>7.2574</td>\n",
       "      <td>352100.0</td>\n",
       "      <td>0</td>\n",
       "      <td>0</td>\n",
       "      <td>0</td>\n",
       "      <td>1</td>\n",
       "      <td>0</td>\n",
       "      <td>8.288136</td>\n",
       "      <td>1.073446</td>\n",
       "    </tr>\n",
       "    <tr>\n",
       "      <th>3</th>\n",
       "      <td>-122.25</td>\n",
       "      <td>37.85</td>\n",
       "      <td>52.0</td>\n",
       "      <td>558.0</td>\n",
       "      <td>219.0</td>\n",
       "      <td>5.6431</td>\n",
       "      <td>341300.0</td>\n",
       "      <td>0</td>\n",
       "      <td>0</td>\n",
       "      <td>0</td>\n",
       "      <td>1</td>\n",
       "      <td>0</td>\n",
       "      <td>5.817352</td>\n",
       "      <td>1.073059</td>\n",
       "    </tr>\n",
       "    <tr>\n",
       "      <th>4</th>\n",
       "      <td>-122.25</td>\n",
       "      <td>37.85</td>\n",
       "      <td>52.0</td>\n",
       "      <td>565.0</td>\n",
       "      <td>259.0</td>\n",
       "      <td>3.8462</td>\n",
       "      <td>342200.0</td>\n",
       "      <td>0</td>\n",
       "      <td>0</td>\n",
       "      <td>0</td>\n",
       "      <td>1</td>\n",
       "      <td>0</td>\n",
       "      <td>6.281853</td>\n",
       "      <td>1.081081</td>\n",
       "    </tr>\n",
       "  </tbody>\n",
       "</table>\n",
       "</div>"
      ],
      "text/plain": [
       "   longitude  latitude  housing_median_age  population  households  \\\n",
       "0    -122.23     37.88                41.0       322.0       126.0   \n",
       "1    -122.22     37.86                21.0      2401.0      1138.0   \n",
       "2    -122.24     37.85                52.0       496.0       177.0   \n",
       "3    -122.25     37.85                52.0       558.0       219.0   \n",
       "4    -122.25     37.85                52.0       565.0       259.0   \n",
       "\n",
       "   median_income  median_house_value  ocean_proximity__<1H OCEAN  \\\n",
       "0         8.3252            452600.0                           0   \n",
       "1         8.3014            358500.0                           0   \n",
       "2         7.2574            352100.0                           0   \n",
       "3         5.6431            341300.0                           0   \n",
       "4         3.8462            342200.0                           0   \n",
       "\n",
       "   ocean_proximity__INLAND  ocean_proximity__ISLAND  \\\n",
       "0                        0                        0   \n",
       "1                        0                        0   \n",
       "2                        0                        0   \n",
       "3                        0                        0   \n",
       "4                        0                        0   \n",
       "\n",
       "   ocean_proximity__NEAR BAY  ocean_proximity__NEAR OCEAN  average_rooms  \\\n",
       "0                          1                            0       6.984127   \n",
       "1                          1                            0       6.238137   \n",
       "2                          1                            0       8.288136   \n",
       "3                          1                            0       5.817352   \n",
       "4                          1                            0       6.281853   \n",
       "\n",
       "   average_bedrooms  \n",
       "0          1.023810  \n",
       "1          0.971880  \n",
       "2          1.073446  \n",
       "3          1.073059  \n",
       "4          1.081081  "
      ]
     },
     "execution_count": 5,
     "metadata": {},
     "output_type": "execute_result"
    }
   ],
   "source": [
    "# 3) Замена признаков total_rooms и total_bedrooms на average_rooms и average_bedrooms (поделив на households).\n",
    "df['average_rooms'] = df['total_rooms']/df['households']\n",
    "df['average_bedrooms'] = df['total_bedrooms']/df['households']\n",
    "\n",
    "df = df.drop('total_rooms', axis=1)\n",
    "df = df.drop('total_bedrooms', axis=1)\n",
    "\n",
    "df.head()"
   ]
  },
  {
   "cell_type": "code",
   "execution_count": 6,
   "id": "090b6890",
   "metadata": {
    "scrolled": false
   },
   "outputs": [
    {
     "data": {
      "text/plain": [
       "longitude                        0\n",
       "latitude                         0\n",
       "housing_median_age               0\n",
       "population                       0\n",
       "households                       0\n",
       "median_income                    0\n",
       "median_house_value               0\n",
       "ocean_proximity__<1H OCEAN       0\n",
       "ocean_proximity__INLAND          0\n",
       "ocean_proximity__ISLAND          0\n",
       "ocean_proximity__NEAR BAY        0\n",
       "ocean_proximity__NEAR OCEAN      0\n",
       "average_rooms                    0\n",
       "average_bedrooms               207\n",
       "dtype: int64"
      ]
     },
     "execution_count": 6,
     "metadata": {},
     "output_type": "execute_result"
    }
   ],
   "source": [
    "# 4) Просмотр кол-ва пропусков\n",
    "df.isna().sum()"
   ]
  },
  {
   "cell_type": "code",
   "execution_count": 7,
   "id": "4fb84619",
   "metadata": {
    "scrolled": true
   },
   "outputs": [],
   "source": [
    "# Заполнение пропусков с помощью предсказания данных\n",
    "\n",
    "# Разделяем df на 2 части:\n",
    "df_no_nan = df.loc[df['average_bedrooms'].isna() == False] # df без колонок с пустыми значениями\n",
    "df_nan_only = df.loc[df['average_bedrooms'].isna() == True] # df с колоноками с пустыми значениями\n",
    "\n",
    "# Создаем X и Y для df без пустых значений, удаляя median_house_value\n",
    "df_no_nan_no_median = df_no_nan.drop('median_house_value', axis=1)\n",
    "df_no_nan_no_median_x = df_no_nan_no_median.drop('average_bedrooms', axis=1)\n",
    "df_no_nan_no_median_y = df_no_nan_no_median['average_bedrooms']\n",
    "\n",
    "# Создаем регрессионную модель с помощью данных X и Y (при таком-то значении average_bedrooms колонки равны X)\n",
    "reg = LinearRegression()\n",
    "reg.fit(df_no_nan_no_median_x, df_no_nan_no_median_y ) \n",
    "\n",
    "# Создаем X для df только с пустыми значениями\n",
    "df_nan_only_no_median = df_nan_only.drop('median_house_value', axis=1)\n",
    "df_nan_only_no_median_x = df_nan_only_no_median.drop('average_bedrooms',axis=1)\n",
    "\n",
    "# Создаем предсказания по этим значениям X и заменяем NaN на значения предсказаний\n",
    "df_nan_only.loc[:]['average_bedrooms'] = reg.predict(df_nan_only_no_median_x)\n",
    "\n",
    "# Заменяем значения NaN в исходной df\n",
    "df['average_bedrooms'].fillna(value=df_nan_only['average_bedrooms'], inplace=True)"
   ]
  },
  {
   "cell_type": "code",
   "execution_count": 8,
   "id": "64fccaca",
   "metadata": {
    "scrolled": true
   },
   "outputs": [
    {
     "data": {
      "text/plain": [
       "longitude                      0\n",
       "latitude                       0\n",
       "housing_median_age             0\n",
       "population                     0\n",
       "households                     0\n",
       "median_income                  0\n",
       "median_house_value             0\n",
       "ocean_proximity__<1H OCEAN     0\n",
       "ocean_proximity__INLAND        0\n",
       "ocean_proximity__ISLAND        0\n",
       "ocean_proximity__NEAR BAY      0\n",
       "ocean_proximity__NEAR OCEAN    0\n",
       "average_rooms                  0\n",
       "average_bedrooms               0\n",
       "dtype: int64"
      ]
     },
     "execution_count": 8,
     "metadata": {},
     "output_type": "execute_result"
    }
   ],
   "source": [
    "# Применим изменения на выборках\n",
    "train_valid, test = train_test_split(df, test_size = 0.1)\n",
    "train, valid = train_test_split(train_valid, test_size = 0.1)\n",
    "\n",
    "# Проверяем отсутствие пропусков\n",
    "df.isna().sum()"
   ]
  },
  {
   "cell_type": "code",
   "execution_count": 9,
   "id": "21d7837c",
   "metadata": {},
   "outputs": [],
   "source": [
    "# 5) Нормализация признаков longitude и latitude\n",
    "def norm(df_sample):\n",
    "    df_sample['longitude'] -= np.mean(train['longitude']) # x - u\n",
    "    df_sample['latitude'] -= np.mean(train['latitude'])\n",
    "    \n",
    "    df_sample['longitude'] /= np.std(train['longitude'])  # (x-u)/o\n",
    "    df_sample['latitude'] /= np.std(train['latitude'])\n",
    "\n",
    "norm(df)\n",
    "norm(train)\n",
    "norm(valid)\n",
    "norm(test)"
   ]
  },
  {
   "cell_type": "code",
   "execution_count": 10,
   "id": "84eaccb0",
   "metadata": {
    "scrolled": false
   },
   "outputs": [
    {
     "name": "stdout",
     "output_type": "stream",
     "text": [
      "Сред. значения:  -4.550227616370159e-15 -1.7289674895753603e-15 (при округл. = 0)\n",
      "Дисперсия:  1.0000000000000002 1.0000000000000002\n"
     ]
    }
   ],
   "source": [
    "print('Сред. значения: ',np.mean(train['longitude']) , np.mean(train['latitude']), '(при округл. = 0)')\n",
    "print('Дисперсия: ', np.var(train['longitude']) , np.var(train['latitude']))"
   ]
  },
  {
   "cell_type": "markdown",
   "id": "300c2765",
   "metadata": {},
   "source": [
    "##  Часть 2"
   ]
  },
  {
   "cell_type": "markdown",
   "id": "96ff5456",
   "metadata": {},
   "source": [
    "### Задание 1"
   ]
  },
  {
   "cell_type": "code",
   "execution_count": 11,
   "id": "76c548a1",
   "metadata": {
    "scrolled": false
   },
   "outputs": [
    {
     "data": {
      "text/html": [
       "<div>\n",
       "<style scoped>\n",
       "    .dataframe tbody tr th:only-of-type {\n",
       "        vertical-align: middle;\n",
       "    }\n",
       "\n",
       "    .dataframe tbody tr th {\n",
       "        vertical-align: top;\n",
       "    }\n",
       "\n",
       "    .dataframe thead th {\n",
       "        text-align: right;\n",
       "    }\n",
       "</style>\n",
       "<table border=\"1\" class=\"dataframe\">\n",
       "  <thead>\n",
       "    <tr style=\"text-align: right;\">\n",
       "      <th></th>\n",
       "      <th>Unnamed: 0</th>\n",
       "      <th>sex</th>\n",
       "      <th>weight</th>\n",
       "      <th>height</th>\n",
       "      <th>repwt</th>\n",
       "      <th>repht</th>\n",
       "    </tr>\n",
       "  </thead>\n",
       "  <tbody>\n",
       "    <tr>\n",
       "      <th>0</th>\n",
       "      <td>1</td>\n",
       "      <td>M</td>\n",
       "      <td>77</td>\n",
       "      <td>182</td>\n",
       "      <td>77.0</td>\n",
       "      <td>180.0</td>\n",
       "    </tr>\n",
       "    <tr>\n",
       "      <th>1</th>\n",
       "      <td>2</td>\n",
       "      <td>F</td>\n",
       "      <td>58</td>\n",
       "      <td>161</td>\n",
       "      <td>51.0</td>\n",
       "      <td>159.0</td>\n",
       "    </tr>\n",
       "    <tr>\n",
       "      <th>2</th>\n",
       "      <td>3</td>\n",
       "      <td>F</td>\n",
       "      <td>53</td>\n",
       "      <td>161</td>\n",
       "      <td>54.0</td>\n",
       "      <td>158.0</td>\n",
       "    </tr>\n",
       "    <tr>\n",
       "      <th>3</th>\n",
       "      <td>4</td>\n",
       "      <td>M</td>\n",
       "      <td>68</td>\n",
       "      <td>177</td>\n",
       "      <td>70.0</td>\n",
       "      <td>175.0</td>\n",
       "    </tr>\n",
       "    <tr>\n",
       "      <th>4</th>\n",
       "      <td>5</td>\n",
       "      <td>F</td>\n",
       "      <td>59</td>\n",
       "      <td>157</td>\n",
       "      <td>59.0</td>\n",
       "      <td>155.0</td>\n",
       "    </tr>\n",
       "  </tbody>\n",
       "</table>\n",
       "</div>"
      ],
      "text/plain": [
       "   Unnamed: 0 sex  weight  height  repwt  repht\n",
       "0           1   M      77     182   77.0  180.0\n",
       "1           2   F      58     161   51.0  159.0\n",
       "2           3   F      53     161   54.0  158.0\n",
       "3           4   M      68     177   70.0  175.0\n",
       "4           5   F      59     157   59.0  155.0"
      ]
     },
     "execution_count": 11,
     "metadata": {},
     "output_type": "execute_result"
    }
   ],
   "source": [
    "# Датасет Davis = df\n",
    "df = pd.read_csv('Davis.csv')\n",
    "df.head()"
   ]
  },
  {
   "cell_type": "code",
   "execution_count": 12,
   "id": "0368ea7a",
   "metadata": {
    "scrolled": true
   },
   "outputs": [
    {
     "data": {
      "text/html": [
       "<div>\n",
       "<style scoped>\n",
       "    .dataframe tbody tr th:only-of-type {\n",
       "        vertical-align: middle;\n",
       "    }\n",
       "\n",
       "    .dataframe tbody tr th {\n",
       "        vertical-align: top;\n",
       "    }\n",
       "\n",
       "    .dataframe thead th {\n",
       "        text-align: right;\n",
       "    }\n",
       "</style>\n",
       "<table border=\"1\" class=\"dataframe\">\n",
       "  <thead>\n",
       "    <tr style=\"text-align: right;\">\n",
       "      <th></th>\n",
       "      <th>sex</th>\n",
       "      <th>weight</th>\n",
       "      <th>height</th>\n",
       "      <th>repwt</th>\n",
       "      <th>repht</th>\n",
       "    </tr>\n",
       "  </thead>\n",
       "  <tbody>\n",
       "    <tr>\n",
       "      <th>0</th>\n",
       "      <td>M</td>\n",
       "      <td>77</td>\n",
       "      <td>182</td>\n",
       "      <td>77.0</td>\n",
       "      <td>180.0</td>\n",
       "    </tr>\n",
       "    <tr>\n",
       "      <th>1</th>\n",
       "      <td>F</td>\n",
       "      <td>58</td>\n",
       "      <td>161</td>\n",
       "      <td>51.0</td>\n",
       "      <td>159.0</td>\n",
       "    </tr>\n",
       "    <tr>\n",
       "      <th>2</th>\n",
       "      <td>F</td>\n",
       "      <td>53</td>\n",
       "      <td>161</td>\n",
       "      <td>54.0</td>\n",
       "      <td>158.0</td>\n",
       "    </tr>\n",
       "    <tr>\n",
       "      <th>3</th>\n",
       "      <td>M</td>\n",
       "      <td>68</td>\n",
       "      <td>177</td>\n",
       "      <td>70.0</td>\n",
       "      <td>175.0</td>\n",
       "    </tr>\n",
       "    <tr>\n",
       "      <th>4</th>\n",
       "      <td>F</td>\n",
       "      <td>59</td>\n",
       "      <td>157</td>\n",
       "      <td>59.0</td>\n",
       "      <td>155.0</td>\n",
       "    </tr>\n",
       "  </tbody>\n",
       "</table>\n",
       "</div>"
      ],
      "text/plain": [
       "  sex  weight  height  repwt  repht\n",
       "0   M      77     182   77.0  180.0\n",
       "1   F      58     161   51.0  159.0\n",
       "2   F      53     161   54.0  158.0\n",
       "3   M      68     177   70.0  175.0\n",
       "4   F      59     157   59.0  155.0"
      ]
     },
     "execution_count": 12,
     "metadata": {},
     "output_type": "execute_result"
    }
   ],
   "source": [
    "# 1) Удалите некорректные данные\n",
    "\n",
    "# Удаляем данные о людях ниже 70 см \n",
    "df = df.loc[df['height'] > 70]\n",
    "\n",
    "# Удаляем ненужную колонку Unnamed\n",
    "df.drop(\"Unnamed: 0\", axis=1, inplace=True)\n",
    "df.head()"
   ]
  },
  {
   "cell_type": "code",
   "execution_count": 13,
   "id": "f1b8efa3",
   "metadata": {
    "scrolled": true
   },
   "outputs": [
    {
     "data": {
      "text/plain": [
       "sex        0\n",
       "weight     0\n",
       "height     0\n",
       "repwt     17\n",
       "repht     17\n",
       "dtype: int64"
      ]
     },
     "execution_count": 13,
     "metadata": {},
     "output_type": "execute_result"
    }
   ],
   "source": [
    "# Делаем проверку на NaN значений\n",
    "df.isna().sum()"
   ]
  },
  {
   "cell_type": "code",
   "execution_count": 14,
   "id": "40ae3fde",
   "metadata": {
    "scrolled": true
   },
   "outputs": [
    {
     "data": {
      "text/plain": [
       "sex       0\n",
       "weight    0\n",
       "height    0\n",
       "repwt     0\n",
       "repht     0\n",
       "dtype: int64"
      ]
     },
     "execution_count": 14,
     "metadata": {},
     "output_type": "execute_result"
    }
   ],
   "source": [
    "# Удаляем такие строки\n",
    "df.dropna( inplace=True )\n",
    "df.isna().sum()"
   ]
  },
  {
   "cell_type": "code",
   "execution_count": 15,
   "id": "1c965f0d",
   "metadata": {},
   "outputs": [
    {
     "name": "stdout",
     "output_type": "stream",
     "text": [
      "тренировочная  (130, 5) тестовая  (50, 5)\n"
     ]
    }
   ],
   "source": [
    "# 2) Выделите тестовую выборку из 50 экземпляров\n",
    "train, test = train_test_split(df, test_size = 50)\n",
    "print ('тренировочная ',train.shape, 'тестовая ', test.shape )"
   ]
  },
  {
   "cell_type": "code",
   "execution_count": 16,
   "id": "182f6302",
   "metadata": {
    "scrolled": false
   },
   "outputs": [
    {
     "data": {
      "image/png": "[encoded data removed]",
      "text/plain": [
       "<Figure size 1080x576 with 6 Axes>"
      ]
     },
     "metadata": {
      "needs_background": "light"
     },
     "output_type": "display_data"
    }
   ],
   "source": [
    "# 3) На тренировочных данных постройте: Гистограмму height, Гистограмму weight + для разных полов\n",
    "\n",
    "train_male = train.loc[df['sex'] == 'M']\n",
    "train_female = train.loc[df['sex'] == 'F']\n",
    "\n",
    "fig, ax = plt.subplots(2, 3, figsize=(15,8))\n",
    "\n",
    "ax[0][0].hist(train['height'])\n",
    "ax[0][0].set_title('Height')\n",
    "\n",
    "ax[0][1].hist(train_male['height'])\n",
    "ax[0][1].set_title('Height M')\n",
    "\n",
    "ax[0][2].hist(train_female['height'])\n",
    "ax[0][2].set_title('Height F')\n",
    "\n",
    "\n",
    "ax[1][0].hist(train['weight'])\n",
    "ax[1][0].set_title('Weight')\n",
    "\n",
    "ax[1][1].hist(train_male['weight'])\n",
    "ax[1][1].set_title('Weight M')\n",
    "\n",
    "ax[1][2].hist(train_female['weight'])\n",
    "ax[1][2].set_title('Weight F')\n",
    "pass"
   ]
  },
  {
   "cell_type": "code",
   "execution_count": 17,
   "id": "0590822c",
   "metadata": {},
   "outputs": [
    {
     "name": "stdout",
     "output_type": "stream",
     "text": [
      "Accuracy train:  0.8769230769230769\n",
      "Accuracy test:  0.96\n"
     ]
    }
   ],
   "source": [
    "# 4) На тренировочных данных обучите классификатор пола (sex), используя только признаки height и weight.\n",
    "# Замерьте производительность на тренировочной и тестовой выборке (через Accuracy).\n",
    "\n",
    "train_x = train[['height', 'weight']]\n",
    "train_y = train['sex']\n",
    "\n",
    "test_x = test[['height', 'weight']]\n",
    "test_y = test['sex']\n",
    "\n",
    "# Логистическая регрессия\n",
    "logreg = LogisticRegression()\n",
    "logreg.fit(train_x, train_y)\n",
    "\n",
    "# Предсказываем по модели\n",
    "train_predictions = logreg.predict(train_x)\n",
    "test_predictions = logreg.predict(test_x)\n",
    "\n",
    "print('Accuracy train: ', accuracy_score(train_predictions, train_y))\n",
    "print('Accuracy test: ', accuracy_score(test_predictions, test_y))"
   ]
  },
  {
   "cell_type": "code",
   "execution_count": 18,
   "id": "fbe05e46",
   "metadata": {
    "scrolled": false
   },
   "outputs": [
    {
     "data": {
      "image/png": "[encoded data removed]",
      "text/plain": [
       "<Figure size 1080x504 with 2 Axes>"
      ]
     },
     "metadata": {
      "needs_background": "light"
     },
     "output_type": "display_data"
    }
   ],
   "source": [
    "# 5) Отобразите точки из обучающей выборки на плоскости (height-weight). Покрасьте их цветами в зависимости от пола. \n",
    "# Раскрасьте области в зависимости от пола, предсказанного обученным в п.4. классификатором.\n",
    "\n",
    "fig, ax = plt.subplots(1, 2, figsize=(15,7))\n",
    "color_list = ListedColormap(['blue', 'orange']) # Цвета для заливки\n",
    "\n",
    "\n",
    "# Функция создает из точек роста и веса все пары между друг другом\n",
    "def hw_points(height_points,weight_points):\n",
    "    all_points = list(itertools.product(height_points, weight_points))\n",
    "    return all_points\n",
    "\n",
    "# Создание предсказаний по модели из п.4\n",
    "def make_predictions(h_points , w_points, size):\n",
    "    points = pd.DataFrame({'height': np.asarray(hw_points(h_points,w_points))[:,0] , \n",
    "                            'weight': np.asarray(hw_points(h_points,w_points))[:,1]}) # преобразуем точки из tuples в Pandas.Df\n",
    "    predictions = logreg.predict(points) # используем модель из п.4\n",
    "    predictions[predictions == 'M'] = 0\n",
    "    predictions[predictions == 'F'] = 1\n",
    "    predictions = (np.int32)(predictions).reshape(size,size)\n",
    "    return predictions\n",
    "\n",
    "\n",
    "#########################\n",
    "# Тренировочная выборка #\n",
    "\n",
    "# Для заливки создаем 100 точек (границы из мин/макс. элемента выборки)\n",
    "h_points = np.linspace(train_x['height'].min() , train_x['height'].max() , 100)\n",
    "w_points = np.linspace(train_x['weight'].min() , train_x['weight'].max() , 100)\n",
    "# Создаем предсказания по созданным точкам для заливки\n",
    "predictions = make_predictions(h_points, w_points, 100)\n",
    "\n",
    "# Заливка тренировочной выборки\n",
    "ax[0].pcolor(h_points, w_points, predictions, alpha=0.25, cmap=color_list)\n",
    "\n",
    "# Отрисовка точек тренировочной выборки\n",
    "ax[0].scatter( train_male['height'], train_male['weight'], color='blue')\n",
    "ax[0].scatter( train_female['height'], train_female['weight'], color='orange')\n",
    "ax[0].set_title('train')\n",
    "ax[0].set_xlabel(\"height\")\n",
    "ax[0].set_ylabel(\"weight\")\n",
    "\n",
    "\n",
    "####################\n",
    "# Тестовая выборка #\n",
    "\n",
    "h_points = np.linspace(test_x['height'].min() , test_x['height'].max() , 100)\n",
    "w_points = np.linspace(test_x['weight'].min() , test_x['weight'].max() , 100)\n",
    "predictions = make_predictions(h_points, w_points ,100)\n",
    "\n",
    "ax[1].pcolor(h_points, w_points, predictions, alpha=0.25, cmap=color_list)\n",
    "\n",
    "# Создание точек тестовой выборки (train_male/female были созданы в п.3)\n",
    "test_male = test.loc[df['sex'] == 'M']\n",
    "test_female = test.loc[df['sex'] == 'F']\n",
    "\n",
    "ax[1].scatter( test_male['height'], test_male['weight'],  color='blue')\n",
    "ax[1].scatter( test_female['height'], test_female['weight'], color='orange')\n",
    "ax[1].set_title('test')\n",
    "ax[1].set_xlabel(\"height\")\n",
    "ax[1].set_ylabel(\"weight\")\n",
    "\n",
    "pass"
   ]
  },
  {
   "cell_type": "markdown",
   "id": "59bfa0b8",
   "metadata": {},
   "source": [
    "### Задание 2"
   ]
  },
  {
   "cell_type": "code",
   "execution_count": 43,
   "id": "ba66bdae",
   "metadata": {
    "scrolled": false
   },
   "outputs": [
    {
     "data": {
      "text/html": [
       "<div>\n",
       "<style scoped>\n",
       "    .dataframe tbody tr th:only-of-type {\n",
       "        vertical-align: middle;\n",
       "    }\n",
       "\n",
       "    .dataframe tbody tr th {\n",
       "        vertical-align: top;\n",
       "    }\n",
       "\n",
       "    .dataframe thead th {\n",
       "        text-align: right;\n",
       "    }\n",
       "</style>\n",
       "<table border=\"1\" class=\"dataframe\">\n",
       "  <thead>\n",
       "    <tr style=\"text-align: right;\">\n",
       "      <th></th>\n",
       "      <th>AT</th>\n",
       "      <th>V</th>\n",
       "      <th>AP</th>\n",
       "      <th>RH</th>\n",
       "      <th>PE</th>\n",
       "    </tr>\n",
       "  </thead>\n",
       "  <tbody>\n",
       "    <tr>\n",
       "      <th>0</th>\n",
       "      <td>14.96</td>\n",
       "      <td>41.76</td>\n",
       "      <td>1024.07</td>\n",
       "      <td>73.17</td>\n",
       "      <td>463.26</td>\n",
       "    </tr>\n",
       "    <tr>\n",
       "      <th>1</th>\n",
       "      <td>25.18</td>\n",
       "      <td>62.96</td>\n",
       "      <td>1020.04</td>\n",
       "      <td>59.08</td>\n",
       "      <td>444.37</td>\n",
       "    </tr>\n",
       "    <tr>\n",
       "      <th>2</th>\n",
       "      <td>5.11</td>\n",
       "      <td>39.40</td>\n",
       "      <td>1012.16</td>\n",
       "      <td>92.14</td>\n",
       "      <td>488.56</td>\n",
       "    </tr>\n",
       "    <tr>\n",
       "      <th>3</th>\n",
       "      <td>20.86</td>\n",
       "      <td>57.32</td>\n",
       "      <td>1010.24</td>\n",
       "      <td>76.64</td>\n",
       "      <td>446.48</td>\n",
       "    </tr>\n",
       "    <tr>\n",
       "      <th>4</th>\n",
       "      <td>10.82</td>\n",
       "      <td>37.50</td>\n",
       "      <td>1009.23</td>\n",
       "      <td>96.62</td>\n",
       "      <td>473.90</td>\n",
       "    </tr>\n",
       "  </tbody>\n",
       "</table>\n",
       "</div>"
      ],
      "text/plain": [
       "      AT      V       AP     RH      PE\n",
       "0  14.96  41.76  1024.07  73.17  463.26\n",
       "1  25.18  62.96  1020.04  59.08  444.37\n",
       "2   5.11  39.40  1012.16  92.14  488.56\n",
       "3  20.86  57.32  1010.24  76.64  446.48\n",
       "4  10.82  37.50  1009.23  96.62  473.90"
      ]
     },
     "execution_count": 43,
     "metadata": {},
     "output_type": "execute_result"
    }
   ],
   "source": [
    "df = pd.read_excel(\"Folds5x2_pp.xlsx\", sheet_name = \"Sheet1\")\n",
    "\n",
    "df.head()"
   ]
  },
  {
   "cell_type": "code",
   "execution_count": 44,
   "id": "a37ef78c",
   "metadata": {},
   "outputs": [
    {
     "name": "stdout",
     "output_type": "stream",
     "text": [
      "тренировочная  (7749, 5) валидационная  (862, 5) тестовая  (957, 5)\n"
     ]
    }
   ],
   "source": [
    "# 1) Разбиение датасета \n",
    "\n",
    "train_valid, test = train_test_split(df, test_size = 0.1)\n",
    "train, valid = train_test_split(train_valid, test_size = 0.1)\n",
    "print ('тренировочная ',train.shape, 'валидационная ', valid.shape,'тестовая ', test.shape )"
   ]
  },
  {
   "cell_type": "code",
   "execution_count": 45,
   "id": "4b5b4dff",
   "metadata": {},
   "outputs": [
    {
     "name": "stdout",
     "output_type": "stream",
     "text": [
      "R^2:  0.9279503864254627\n",
      "MSE:  19.88840751609804\n"
     ]
    }
   ],
   "source": [
    "# 2) Постройте регрессионную модель. Замерьте коэффициент R^2 и среднюю ошибку предсказания на валидационной выборке.\n",
    "\n",
    "train_y = train['PE'] # predict the net hourly electrical energy output (EP) => предсказание\n",
    "train_x = train.drop('PE', axis=1) # в X убираем PE\n",
    "\n",
    "valid_y = valid['PE']\n",
    "valid_x = valid.drop('PE', axis=1)\n",
    "\n",
    "linreg = LinearRegression().fit(train_x, train_y)\n",
    "\n",
    "predictions = linreg.predict(valid_x)\n",
    "mse = mean_squared_error(predictions, valid_y)\n",
    "\n",
    "print('R^2: ', linreg.score(train_x, train_y))\n",
    "print('MSE: ', mse)\n"
   ]
  },
  {
   "cell_type": "code",
   "execution_count": 46,
   "id": "5845653c",
   "metadata": {
    "scrolled": true
   },
   "outputs": [
    {
     "data": {
      "image/png": "[encoded data removed]",
      "text/plain": [
       "<Figure size 432x288 with 1 Axes>"
      ]
     },
     "metadata": {
      "needs_background": "light"
     },
     "output_type": "display_data"
    }
   ],
   "source": [
    "# 3) Постройте точки из валидационной выборки на плоскости. Отобразите вместе с ними прямую y=t. \n",
    "\n",
    "line_k, line_b = np.polyfit(valid_y, predictions, 1) # y=k*t+b , ищутся k и b, чтобы y=t\n",
    "t = valid_y # t - истинное значение\n",
    "\n",
    "plt.xlim(t.min(), t.max())\n",
    "plt.scatter(t, predictions) # точки\n",
    "plt.plot(t, line_k * t + line_b, color = 'r') # линия\n",
    "\n",
    "plt.show()"
   ]
  }
 ],
 "metadata": {
  "kernelspec": {
   "display_name": "Python 3 (ipykernel)",
   "language": "python",
   "name": "python3"
  },
  "language_info": {
   "codemirror_mode": {
    "name": "ipython",
    "version": 3
   },
   "file_extension": ".py",
   "mimetype": "text/x-python",
   "name": "python",
   "nbconvert_exporter": "python",
   "pygments_lexer": "ipython3",
   "version": "3.10.0"
  }
 },
 "nbformat": 4,
 "nbformat_minor": 5
}
