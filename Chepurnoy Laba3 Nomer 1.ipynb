{
 "cells": [
  {
   "cell_type": "code",
   "execution_count": 15,
   "id": "5d7299dc",
   "metadata": {},
   "outputs": [
    {
     "data": {
      "text/plain": [
       "tensor([1., 2., 3.])"
      ]
     },
     "execution_count": 15,
     "metadata": {},
     "output_type": "execute_result"
    }
   ],
   "source": [
    "# Номер 1 , 11 пункт\n",
    "\n",
    "import torch\n",
    "import math\n",
    "import numpy as np\n",
    "\n",
    "def grad1(w, x):\n",
    "    alpha = 0.01\n",
    "    w.requires_grad_(True)\n",
    "    wx = torch.dot(w,x)\n",
    "    f = wx\n",
    "    if (wx > 0):\n",
    "        f.backward()\n",
    "    else:\n",
    "        f = alpha*(torch.exp(wx) - 1)\n",
    "        f.backward()\n",
    "   \n",
    "    return w.grad\n",
    "\n",
    "grad1(torch.tensor([1.,1.,1.]), torch.tensor([1.,2.,3.]))"
   ]
  },
  {
   "cell_type": "code",
   "execution_count": 16,
   "id": "b40623df",
   "metadata": {},
   "outputs": [
    {
     "data": {
      "text/plain": [
       "tensor([2.4788e-05, 4.9575e-05, 7.4363e-05])"
      ]
     },
     "execution_count": 16,
     "metadata": {},
     "output_type": "execute_result"
    }
   ],
   "source": [
    "grad1(torch.tensor([-1.,-1.,-1.]), torch.tensor([1.,2.,3.]))"
   ]
  },
  {
   "cell_type": "code",
   "execution_count": null,
   "id": "4332bae5",
   "metadata": {},
   "outputs": [],
   "source": []
  }
 ],
 "metadata": {
  "kernelspec": {
   "display_name": "Python 3 (ipykernel)",
   "language": "python",
   "name": "python3"
  },
  "language_info": {
   "codemirror_mode": {
    "name": "ipython",
    "version": 3
   },
   "file_extension": ".py",
   "mimetype": "text/x-python",
   "name": "python",
   "nbconvert_exporter": "python",
   "pygments_lexer": "ipython3",
   "version": "3.9.9"
  }
 },
 "nbformat": 4,
 "nbformat_minor": 5
}
